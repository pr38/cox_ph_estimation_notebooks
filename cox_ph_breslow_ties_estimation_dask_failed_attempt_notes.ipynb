{
 "cells": [
  {
   "cell_type": "code",
   "execution_count": 1,
   "id": "88a277ca-c2cc-48b0-8c69-0f8f703da782",
   "metadata": {},
   "outputs": [],
   "source": [
    "import numpy as np\n",
    "import xarray as xr\n",
    "\n",
    "from lifelines.datasets import load_kidney_transplant\n",
    "\n",
    "from dask.distributed import Client, LocalCluster\n",
    "import dask.array as da\n"
   ]
  },
  {
   "cell_type": "code",
   "execution_count": 2,
   "id": "2201ded7-2584-4d35-a057-681c9cc0d378",
   "metadata": {},
   "outputs": [],
   "source": [
    "df = load_kidney_transplant()\n",
    "\n",
    "# let us consider two covariates\n",
    "cols = [\"afb\", \"mitype\"]\n",
    "\n",
    "#df = df[cols].rename(columns={cols[0]: \"v1\", cols[1]: \"v2\"}).astype(float)\n",
    "X_np = df[['black_male','white_male','black_female']].to_numpy().astype(np.float64)\n",
    "time_np = df['time'].to_numpy().astype(np.float64)\n",
    "event_np = df['death'].to_numpy().astype(np.float64)\n"
   ]
  },
  {
   "cell_type": "code",
   "execution_count": 3,
   "id": "d1873667-15e0-42d4-bc06-beacdbc946f7",
   "metadata": {},
   "outputs": [],
   "source": [
    "cluster = LocalCluster()\n",
    "client = Client(cluster)"
   ]
  },
  {
   "cell_type": "code",
   "execution_count": 4,
   "id": "8f21cf3b-83af-4b18-99ea-39a6619f4970",
   "metadata": {},
   "outputs": [],
   "source": [
    "X = da.from_array(X_np,chunks=(100,-1)).persist()\n",
    "time = da.from_array(time_np,chunks=(100)).persist()\n",
    "event = da.from_array(event_np,chunks=(100)).persist()\n",
    "\n",
    "unique_times, time_return_inverse =  da.unique(time,return_inverse=True)\n",
    "unique_times = unique_times.compute()\n",
    "n_unique_times = len(unique_times)"
   ]
  },
  {
   "cell_type": "code",
   "execution_count": 5,
   "id": "d05077fa-85a1-4f44-943b-ab9457a1d189",
   "metadata": {},
   "outputs": [],
   "source": [
    "weights = np.zeros(X.shape[1])"
   ]
  },
  {
   "cell_type": "code",
   "execution_count": 6,
   "id": "111ff5ab-6892-4c8d-af5d-2796e1ede7be",
   "metadata": {},
   "outputs": [],
   "source": [
    "def reverse_cumsum(a):\n",
    "    return da.flip(da.cumsum(da.flip(a)))\n",
    "\n",
    "\n",
    "p = da.dot(X,weights)\n",
    "p_exp= da.exp(p)\n",
    "risk_set = reverse_cumsum(da.bincount(time_return_inverse,weights= p_exp,minlength=len(unique_times)))[time_return_inverse]\n",
    "loss = - np.sum(event * (p - np.log(risk_set)))\n"
   ]
  },
  {
   "cell_type": "code",
   "execution_count": 7,
   "id": "c503419e-aa4c-47b1-be95-7b06e88d1257",
   "metadata": {},
   "outputs": [
    {
     "data": {
      "text/plain": [
       "879.1848811180897"
      ]
     },
     "execution_count": 7,
     "metadata": {},
     "output_type": "execute_result"
    }
   ],
   "source": [
    "loss.compute() #the loss is correct"
   ]
  },
  {
   "cell_type": "code",
   "execution_count": 8,
   "id": "4b11c8c5-ac5f-4d26-b9f8-11ff38d8b626",
   "metadata": {},
   "outputs": [],
   "source": [
    "XxXb = np.multiply(X,p_exp[:,np.newaxis])\n",
    "XxXb_at_Xt_at_time = xr.DataArray(XxXb).groupby(xr.DataArray(time_return_inverse)).sum()\n",
    "XxXb_at_Xt_at_time_cumsum = da.apply_along_axis(reverse_cumsum,0,XxXb_at_Xt_at_time)\n",
    "#this bottom line is the issue, as dask is not properlly indexing/tacking as a numpy array would\n",
    "#XxXb_at_Xt_at_index = XxXb_at_Xt_at_time_cumsum[time_return_inverse]\n",
    "XxXb_at_Xt_at_index = da.take(XxXb_at_Xt_at_time_cumsum,time_return_inverse,axis=0)\n",
    "#XxXb_at_Xt_at_index = da.apply_along_axis(lambda a: a.take(time_return_inverse),0,XxXb_at_Xt_at_time_cumsum)\n"
   ]
  },
  {
   "cell_type": "code",
   "execution_count": 9,
   "id": "167b41e1-6088-4002-b290-53f1b13f9787",
   "metadata": {},
   "outputs": [],
   "source": [
    "jacobian = -da.sum(event[:,np.newaxis] * (X - XxXb_at_Xt_at_index/risk_set[:,np.newaxis]),axis=0)\n"
   ]
  },
  {
   "cell_type": "code",
   "execution_count": 10,
   "id": "e90c3034-0bcf-457c-bcca-0e305738b38c",
   "metadata": {},
   "outputs": [],
   "source": [
    "correct_jacobian = np.array([ 0.51671724, -3.7450042 , -5.16354462])"
   ]
  },
  {
   "cell_type": "code",
   "execution_count": 11,
   "id": "e1b9c8a8-1149-4fee-930d-5373c40b7d11",
   "metadata": {},
   "outputs": [
    {
     "name": "stdout",
     "output_type": "stream",
     "text": [
      "[ -0.84453129 -10.58125143  -6.02887283] [ 0.51671724 -3.7450042  -5.16354462]\n"
     ]
    }
   ],
   "source": [
    "jacobian_c = jacobian.compute()\n",
    "\n",
    "#jacobian is incorrrect :(\n",
    "print(jacobian_c,correct_jacobian)"
   ]
  },
  {
   "cell_type": "code",
   "execution_count": 12,
   "id": "6806cf1d-afc8-4d98-9764-6511462f3679",
   "metadata": {},
   "outputs": [],
   "source": [
    "#here I demonstrate that the issue is with indexing XxXb_at_Xt_at_time_cumsum by time_return_inverse\n",
    "\n",
    "def reverse_cumsum_np(a):\n",
    "    return np.flip(np.cumsum(np.flip(a)))\n",
    "\n",
    "XxXb_np = XxXb.compute()\n",
    "\n",
    "unique_times_np, time_return_inverse_np =  np.unique(time_np,return_inverse=True)\n",
    "n_unique_times_np = len(unique_times)\n",
    "\n",
    "\n",
    "XxXb_at_Xt_at_time_np = np.apply_along_axis(lambda a: np.bincount(time_return_inverse_np,weights=a,minlength=n_unique_times_np),0,XxXb_np)\n",
    "XxXb_at_Xt_at_time_cumsum_np = np.apply_along_axis(reverse_cumsum_np,0,XxXb_at_Xt_at_time_np)\n",
    "XxXb_at_Xt_at_index_np = XxXb_at_Xt_at_time_cumsum_np[time_return_inverse_np]\n"
   ]
  },
  {
   "cell_type": "code",
   "execution_count": 13,
   "id": "3f389893-3bb6-4f59-baf6-6309e7211b87",
   "metadata": {},
   "outputs": [
    {
     "name": "stdout",
     "output_type": "stream",
     "text": [
      "[[ 92. 432.  59.]\n",
      " [ 92. 431.  59.]\n",
      " [ 92. 430.  59.]\n",
      " ...\n",
      " [  3.  15.   3.]\n",
      " [  3.  11.   2.]\n",
      " [  1.   5.   1.]] [[ 92. 432.  59.]\n",
      " [ 92. 432.  59.]\n",
      " [ 92. 432.  59.]\n",
      " ...\n",
      " [  1.   3.   0.]\n",
      " [  1.   3.   0.]\n",
      " [  1.   3.   0.]]\n"
     ]
    }
   ],
   "source": [
    "#XxXb_at_Xt_at_time_cumsum matches\n",
    "\n",
    "np.testing.assert_almost_equal( XxXb_at_Xt_at_time_cumsum_np, XxXb_at_Xt_at_time_cumsum.compute() )\n",
    "\n",
    "#but XxXb_at_Xt_at_index does not match, the issue is with a bug with dask indexing/take\n",
    "\n",
    "print( XxXb_at_Xt_at_index_np,XxXb_at_Xt_at_index.compute())\n"
   ]
  },
  {
   "cell_type": "code",
   "execution_count": 14,
   "id": "78c39cc2-92ee-4796-870f-aaaa5474903b",
   "metadata": {},
   "outputs": [],
   "source": [
    "#on to the hessian matrix\n",
    "def three_dimensional_groupby_sum(array,by):\n",
    "    result = xr.DataArray(array).groupby(xr.DataArray(by)).sum()\n",
    "    index_id = list(result.indexes.dims)[0]\n",
    "    index = result.indexes[index_id]\n",
    "    return da.from_array(result)[index]\n",
    "\n",
    "def _rechunk_for_3d_cumsum(a,element_size,rows_per_chunk=100):\n",
    "    return  a.rechunk(rows_per_chunk,element_size[0],element_size[0])\n",
    "\n",
    "def dask_3d_cumsum(a,element_size):\n",
    "    return  da.reductions.cumreduction(np.add.accumulate,lambda a, b: a+b,np.zeros(element_size),axis=0,dtype=np.float64,x=a) "
   ]
  },
  {
   "cell_type": "code",
   "execution_count": 15,
   "id": "04c4f07d-7d07-4721-9242-861491a4ccff",
   "metadata": {},
   "outputs": [],
   "source": [
    "X2xXb = np.einsum(\"ij,ik,i->ijk\", X, X, p_exp)\n",
    "#X2xXb_at_time = three_dimensional_groupby_sum(X2xXb,time_return_inverse)\n",
    "X2xXb_at_time = three_dimensional_groupby_sum(X2xXb,time_return_inverse)\n",
    "\n",
    "element_size = (X.shape[1],X.shape[1])\n",
    "X2xXb_at_time = _rechunk_for_3d_cumsum(X2xXb_at_time,element_size)\n",
    "X2Xb_at_Xt_at_index = da.flip(dask_3d_cumsum(da.flip( X2xXb_at_time),element_size))[time_return_inverse]\n",
    "\n",
    "a = X2Xb_at_Xt_at_index/risk_set[:,None,None]\n",
    "b = np.matmul(XxXb_at_Xt_at_index[:,:,None], XxXb_at_Xt_at_index[:,None,:])/(risk_set**2)[:,None,None]\n",
    "c = a - b\n",
    "\n",
    "hessian = np.sum(event[:,None,None] * c,axis=0)\n"
   ]
  },
  {
   "cell_type": "code",
   "execution_count": 16,
   "id": "c26c6c06-10f4-4f72-8eb8-8ca1e9de0e8a",
   "metadata": {},
   "outputs": [
    {
     "data": {
      "text/plain": [
       "array([[12.78620278, -8.22528016, -1.05192869],\n",
       "       [-8.22528016, 30.10371835, -4.99783531],\n",
       "       [-1.05192869, -4.99783531,  8.19314371]])"
      ]
     },
     "execution_count": 16,
     "metadata": {},
     "output_type": "execute_result"
    }
   ],
   "source": [
    "#the hessian is also incorrect, :(\n",
    "#the corrct values would have been\n",
    "# array([[13.00513315, -7.18493076, -0.92061414],\n",
    "#        [-7.18493076, 34.95695067, -4.37961393],\n",
    "#        [-0.92061414, -4.37961393,  8.27053441]])\n",
    "#T belive this is also due to the dask sorting issue that I had with the jacobian\n",
    "\n",
    "hessian.compute()"
   ]
  },
  {
   "cell_type": "code",
   "execution_count": null,
   "id": "64909ec8-536b-4a59-a3eb-86995746b619",
   "metadata": {},
   "outputs": [],
   "source": []
  }
 ],
 "metadata": {
  "kernelspec": {
   "display_name": "Python 3 (ipykernel)",
   "language": "python",
   "name": "python3"
  },
  "language_info": {
   "codemirror_mode": {
    "name": "ipython",
    "version": 3
   },
   "file_extension": ".py",
   "mimetype": "text/x-python",
   "name": "python",
   "nbconvert_exporter": "python",
   "pygments_lexer": "ipython3",
   "version": "3.12.8"
  }
 },
 "nbformat": 4,
 "nbformat_minor": 5
}
