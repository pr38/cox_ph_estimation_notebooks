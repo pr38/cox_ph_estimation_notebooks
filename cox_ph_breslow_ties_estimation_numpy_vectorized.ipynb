{
 "cells": [
  {
   "cell_type": "code",
   "execution_count": 1,
   "id": "433655c9-1536-408c-96b6-0ea795914c09",
   "metadata": {},
   "outputs": [],
   "source": [
    "import numpy as np\n",
    "\n",
    "from lifelines.datasets import load_kidney_transplant\n",
    "\n",
    "from scipy.optimize import minimize\n",
    "\n",
    "from sksurv.datasets import load_whas500\n",
    "from sksurv.linear_model import CoxPHSurvivalAnalysis\n",
    "from sksurv.util import Surv\n",
    "\n",
    "import numba as nb\n",
    "from numba import njit\n"
   ]
  },
  {
   "cell_type": "code",
   "execution_count": 2,
   "id": "23611967-707f-478c-ac2c-10311b269ea4",
   "metadata": {},
   "outputs": [],
   "source": [
    "df = load_kidney_transplant()\n",
    "\n",
    "X = df[['age','black_male','white_male','black_female']].to_numpy().astype(np.float64)\n",
    "time = df['time'].to_numpy().astype(np.float64)\n",
    "event = df['death'].to_numpy().astype(np.float64)\n",
    "\n",
    "def normalize(X):\n",
    "    return np.subtract(X , X.mean(axis=0))/X.std(axis=0)\n",
    "\n",
    "X = normalize(X)\n",
    "\n",
    "unique_times, time_return_inverse =  np.unique(time,return_inverse=True)\n",
    "n_unique_times = len(unique_times)"
   ]
  },
  {
   "cell_type": "code",
   "execution_count": 3,
   "id": "fb6a604c-232b-4ba0-bed0-52f3f0a397fb",
   "metadata": {},
   "outputs": [],
   "source": [
    "def reverse_cumsum(a):\n",
    "    return np.flip(np.cumsum(np.flip(a)))\n",
    "\n",
    "# import xarray as xr\n",
    "\n",
    "# def three_dimensional_groupby_sum(array,by):\n",
    "#     result = xr.DataArray(array).groupby(xr.DataArray(by)).sum()\n",
    "#     return result.values[result.group.values]\n",
    "\n",
    "@njit(\n",
    "nb.types.Array(nb.float64,3,'A', False, aligned=True)(\n",
    "    nb.types.Array(nb.float64, 3, 'A', False, aligned=True),\n",
    "    nb.types.Array(nb.int64, 1, 'C', False, aligned=True),\n",
    "    nb.int64)\n",
    ")\n",
    "def three_dimensional_groupby_sum(array,by,n_unique_times):\n",
    "    output = np.zeros((n_unique_times, array.shape[1],  array.shape[2]))\n",
    "\n",
    "    for i in range(by.shape[0]):\n",
    "        by_i = by[i]\n",
    "        array_i = array[i]\n",
    "        output[by_i] += array_i\n",
    "        \n",
    "    return output"
   ]
  },
  {
   "cell_type": "code",
   "execution_count": 4,
   "id": "05475cd0-f0d4-48e6-af56-9a5b532b9a12",
   "metadata": {},
   "outputs": [],
   "source": [
    "def get_n_log_likelihood_loss_jacobian_hessian(weights,X,event,time_return_inverse,n_unique_times):\n",
    "\n",
    "    p = np.dot(X,weights)\n",
    "    p_exp= np.exp(p)\n",
    "    risk_set = reverse_cumsum(np.bincount(time_return_inverse,weights= p_exp))[time_return_inverse]\n",
    "\n",
    "    loss = -  np.sum(event * (p - np.log(risk_set)))\n",
    "    \n",
    "    XxXb = np.multiply(X,p_exp[:,np.newaxis])\n",
    "    XxXb_at_Xt_at_time = np.apply_along_axis(lambda a: np.bincount(time_return_inverse,weights=a,minlength=n_unique_times),0,XxXb)\n",
    "    XxXb_at_Xt_at_time_cumsum = np.apply_along_axis(reverse_cumsum,0,XxXb_at_Xt_at_time)\n",
    "    XxXb_at_Xt_at_index = XxXb_at_Xt_at_time_cumsum[time_return_inverse]\n",
    "\n",
    "    jacobian= -np.sum(event[:,np.newaxis] * (X - XxXb_at_Xt_at_index/risk_set[:,np.newaxis]),axis=0)\n",
    "    \n",
    "    X2xXb = np.einsum(\"ij,ik,i->ijk\", X, X, p_exp)\n",
    "    #X2xXb_at_time = three_dimensional_groupby_sum(X2xXb,time_return_inverse)\n",
    "    X2xXb_at_time = three_dimensional_groupby_sum(X2xXb,time_return_inverse,n_unique_times)\n",
    "    X2Xb_at_Xt_at_index = np.flip(np.add.accumulate(np.flip( X2xXb_at_time)))[time_return_inverse]\n",
    "    \n",
    "    a = X2Xb_at_Xt_at_index/risk_set[:,None,None]\n",
    "    b = np.matmul(XxXb_at_Xt_at_index[:,:,None], XxXb_at_Xt_at_index[:,None,:])/(risk_set**2)[:,None,None]\n",
    "    c = a - b\n",
    "\n",
    "    hessian = np.sum(event[:,None,None] * c,axis=0)\n",
    "\n",
    "    return loss, jacobian, hessian\n",
    "    "
   ]
  },
  {
   "cell_type": "code",
   "execution_count": 5,
   "id": "87be3939-b0f5-4feb-856c-aac0a298453b",
   "metadata": {},
   "outputs": [],
   "source": [
    "def train_weights_for_cox_ph_breslow(X,event,n_unique_times,time_return_inverse, max_itterations = 100, loss_jacobian_hessian_function=get_n_log_likelihood_loss_jacobian_hessian):\n",
    "    #https://myweb.uiowa.edu/pbreheny/7210/f15/notes/10-27.pdf \n",
    "    #according to Dr.Breheny's notes, one should start halfsteping Newton-Raphson for cox when one starts having touble traning, before terminating the training loop\n",
    "    #\"Supposedly\" R's survival package does this\n",
    "\n",
    "    weights = np.zeros(X.shape[1])\n",
    "\n",
    "    last_loss = np.array(np.inf)\n",
    "    \n",
    "    half_step = False\n",
    "    \n",
    "    for i in range(max_itterations):\n",
    "        loss, jacobian, hessian = loss_jacobian_hessian_function(weights,X,event,time_return_inverse,n_unique_times)\n",
    "        if (loss < last_loss) &  (not half_step):\n",
    "            last_loss = loss\n",
    "            weights = weights -  np.dot(np.linalg.inv(hessian),jacobian)\n",
    "        elif (loss < last_loss) & half_step:\n",
    "            last_loss = loss\n",
    "            weights = weights - (0.5 * np.dot(np.linalg.inv(hessian),jacobian))\n",
    "        else:\n",
    "            if half_step:\n",
    "                break\n",
    "            else:\n",
    "                half_step = True\n",
    "\n",
    "    return weights\n"
   ]
  },
  {
   "cell_type": "code",
   "execution_count": 6,
   "id": "e66ce75a-a075-4ccf-b747-c65d073261ad",
   "metadata": {},
   "outputs": [
    {
     "name": "stdout",
     "output_type": "stream",
     "text": [
      "[ 0.68441213 -0.01099881  0.04867061  0.1145396 ]\n"
     ]
    }
   ],
   "source": [
    "hand_trained_cox = train_weights_for_cox_ph_breslow(X,event,n_unique_times,time_return_inverse)\n",
    "print(hand_trained_cox)"
   ]
  },
  {
   "cell_type": "code",
   "execution_count": 9,
   "id": "987a9455-80b5-44be-bc78-91ce45c2570d",
   "metadata": {},
   "outputs": [
    {
     "name": "stdout",
     "output_type": "stream",
     "text": [
      "[ 0.68441213 -0.01099881  0.04867061  0.1145396 ]\n"
     ]
    }
   ],
   "source": [
    "y_sur = Surv().from_arrays(event,time)\n",
    "sscox_coef = CoxPHSurvivalAnalysis(ties='breslow').fit(X ,y_sur).coef_\n",
    "print(sscox_coef)"
   ]
  },
  {
   "cell_type": "code",
   "execution_count": 10,
   "id": "e86ab27a-3cdc-471b-80a0-b355013896de",
   "metadata": {},
   "outputs": [],
   "source": [
    "np.testing.assert_almost_equal(hand_trained_cox,sscox_coef)\n",
    "#weights seem to match, lets do a speed test"
   ]
  },
  {
   "cell_type": "code",
   "execution_count": 14,
   "id": "d80641fe-254c-4002-b117-56d69c2cb398",
   "metadata": {},
   "outputs": [
    {
     "name": "stdout",
     "output_type": "stream",
     "text": [
      "3.84 ms ± 293 μs per loop (mean ± std. dev. of 7 runs, 100 loops each)\n"
     ]
    }
   ],
   "source": [
    "%timeit train_weights_for_cox_ph_breslow(X,event,n_unique_times,time_return_inverse)"
   ]
  },
  {
   "cell_type": "code",
   "execution_count": 15,
   "id": "5cd39c62-d9f4-4a93-b86a-ff2607ccf74b",
   "metadata": {},
   "outputs": [
    {
     "name": "stdout",
     "output_type": "stream",
     "text": [
      "58.3 ms ± 317 μs per loop (mean ± std. dev. of 7 runs, 10 loops each)\n"
     ]
    }
   ],
   "source": [
    "%timeit  CoxPHSurvivalAnalysis(ties='breslow').fit(X ,y_sur)"
   ]
  },
  {
   "cell_type": "code",
   "execution_count": null,
   "id": "8069b547-58fc-4064-beec-3054274bdef5",
   "metadata": {},
   "outputs": [],
   "source": []
  }
 ],
 "metadata": {
  "kernelspec": {
   "display_name": "Python 3 (ipykernel)",
   "language": "python",
   "name": "python3"
  },
  "language_info": {
   "codemirror_mode": {
    "name": "ipython",
    "version": 3
   },
   "file_extension": ".py",
   "mimetype": "text/x-python",
   "name": "python",
   "nbconvert_exporter": "python",
   "pygments_lexer": "ipython3",
   "version": "3.12.8"
  }
 },
 "nbformat": 4,
 "nbformat_minor": 5
}
