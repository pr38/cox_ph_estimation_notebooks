{
 "cells": [
  {
   "cell_type": "code",
   "execution_count": 1,
   "id": "74e99b6b-cab9-4f9d-8802-ae726cdf2e66",
   "metadata": {},
   "outputs": [],
   "source": [
    "import pytensor\n",
    "import pytensor.tensor as pt\n",
    "\n",
    "import numpy as np\n",
    "import pandas as pd\n",
    "\n",
    "from lifelines.datasets import load_kidney_transplant\n",
    "from lifelines import CoxPHFitter\n",
    "\n",
    "from sksurv.linear_model import CoxPHSurvivalAnalysis\n",
    "from sksurv.util import Surv"
   ]
  },
  {
   "cell_type": "code",
   "execution_count": 2,
   "id": "86e59df0-9d02-4da4-9991-6194f244b265",
   "metadata": {},
   "outputs": [],
   "source": [
    "df = load_kidney_transplant()\n",
    "\n",
    "X = df[['age','black_male','white_male','black_female']].to_numpy().astype(np.float64)\n",
    "\n",
    "\n",
    "time = df['time'].to_numpy().astype(np.float64)\n",
    "event = df['death'].to_numpy().astype(np.float64)\n",
    "\n",
    "argsort = time.argsort(kind='mergesort')\n",
    "\n",
    "time= time[argsort]\n",
    "event = event[argsort].astype(np.int64)\n",
    "X = X[argsort]\n",
    "\n",
    "unique_times, time_return_inverse =  np.unique(time,return_inverse=True)\n",
    "n_unique_times = len(unique_times)\n",
    "\n"
   ]
  },
  {
   "cell_type": "code",
   "execution_count": 3,
   "id": "45cf4fd7-1031-4721-baf1-a48ff30569bb",
   "metadata": {},
   "outputs": [
    {
     "data": {
      "text/plain": [
       "863"
      ]
     },
     "execution_count": 3,
     "metadata": {},
     "output_type": "execute_result"
    }
   ],
   "source": [
    "len(time)"
   ]
  },
  {
   "cell_type": "code",
   "execution_count": 4,
   "id": "739142c3-2f08-4d72-b2f4-7ec3154794ea",
   "metadata": {},
   "outputs": [],
   "source": [
    "def get_index_per_not_censored_times(time,event):\n",
    "    \"\"\"used to calcuate  the 'l over m_j' in the efron loss, assumes that the time & event are ordered by time\"\"\"\n",
    "    last_time = None\n",
    "    current_index = 0\n",
    "    indexes = []\n",
    "    \n",
    "    for t,e in zip(time,event):\n",
    "        not_censored =  e == 1\n",
    "        if t == last_time and not_censored:\n",
    "            current_index = current_index + 1\n",
    "    \n",
    "        elif not_censored:\n",
    "            current_index = 0\n",
    "        else:\n",
    "            current_index = -1\n",
    "    \n",
    "        last_time = t\n",
    "    \n",
    "        indexes.append(current_index)\n",
    "        \n",
    "    return np.array(indexes)\n",
    "\n",
    "\n",
    "# death_per_time = np.bincount(time_return_inverse,weights= event,minlength=n_unique_times)[time_return_inverse]\n",
    "# index_per_not_censored_times = get_index_per_not_censored_times(time,event)\n",
    "# l_div_m = np.divide(np.array(index_per_not_censored_times),death_per_time,out=np.zeros(X.shape[0]),where =np.logical_and ( death_per_time != 0 , event == 1 ))\n",
    "\n",
    "#l_div_m should be calcuated one, before the traning loop, we will calcuate it here before handing it off to pytensor as a parameter"
   ]
  },
  {
   "cell_type": "code",
   "execution_count": 5,
   "id": "a4595b3c-dd93-4fa8-b66e-3ca3b52e4432",
   "metadata": {},
   "outputs": [],
   "source": [
    "def get_efron_neg_log_likelihood_loss_jacobian_hessian_function() -> pytensor.compile.function.types.Function:\n",
    "    def reverse_cumsum(a):\n",
    "        return pt.flip(pt.cumsum(pt.flip(a)))\n",
    "    \n",
    "    weights  = pt.vector('weights',dtype='float64')\n",
    "    data = pt.matrix('data',dtype='float64')\n",
    "    l_div_m = pt.vector('l_div_m',dtype='float64')\n",
    "    n_unique_times = pt.scalar('n_unique_times',dtype='int64') \n",
    "    event = pt.vector('event',dtype='int64') \n",
    "    time_return_inverse = pt.vector('time_return_inverse',dtype='int64')\n",
    "\n",
    "    p = pt.dot(data,weights)\n",
    "    p_exp =  pt.exp(p)\n",
    "\n",
    "    set_at_time_indexed_at_time = pt.bincount(time_return_inverse,weights= p_exp,minlength=n_unique_times)\n",
    "    set_per_time = set_at_time_indexed_at_time[time_return_inverse]\n",
    "    risk_set = reverse_cumsum(set_at_time_indexed_at_time)[time_return_inverse]\n",
    "\n",
    "    loss = - pt.sum(event * (p - np.log(risk_set - (l_div_m * set_per_time))))\n",
    "\n",
    "    jacobian = pytensor.gradient.jacobian(loss,weights)\n",
    "    hessian = pytensor.gradient.hessian(loss,weights)\n",
    "    neg_log_likelihood_loss_jacobian_hessian = pytensor.function(inputs=[weights,data,event,l_div_m,n_unique_times,time_return_inverse],outputs= [loss,jacobian,hessian])\n",
    "\n",
    "    return neg_log_likelihood_loss_jacobian_hessian\n"
   ]
  },
  {
   "cell_type": "code",
   "execution_count": 6,
   "id": "6b951501-eb82-4abd-b1c3-0bebf227126f",
   "metadata": {},
   "outputs": [],
   "source": [
    "efron_neg_log_likelihood = get_efron_neg_log_likelihood_loss_jacobian_hessian_function()"
   ]
  },
  {
   "cell_type": "code",
   "execution_count": 22,
   "id": "a7b2aad6-3b5e-4693-a50f-41185bcdcd88",
   "metadata": {},
   "outputs": [],
   "source": [
    "def train_weights_for_cox_ph_efron(X,event,n_unique_times,time_return_inverse, max_itterations = 100, loss_jacobian_hessian_function=efron_neg_log_likelihood):\n",
    "    #https://myweb.uiowa.edu/pbreheny/7210/f15/notes/10-27.pdf \n",
    "    #according to Dr.Breheny's notes, one should start halfsteping Newton-Raphson for cox when one starts having touble traning, before terminating the training loop\n",
    "    #\"Supposedly\" R's survival package does this\n",
    "\n",
    "\n",
    "    \n",
    "    death_per_time = np.bincount(time_return_inverse,weights= event,minlength=n_unique_times)[time_return_inverse]\n",
    "    index_per_not_censored_times = get_index_per_not_censored_times(time,event)\n",
    "    l_div_m = np.divide(np.array(index_per_not_censored_times),death_per_time,out=np.zeros(X.shape[0]),where =np.logical_and ( death_per_time != 0 , event == 1 ))\n",
    "\n",
    "\n",
    "    weights = np.zeros(X.shape[1])\n",
    "\n",
    "    last_loss = np.array(np.inf)\n",
    "    \n",
    "    half_step = False\n",
    "    \n",
    "    for i in range(max_itterations):\n",
    "        loss, jacobian, hessian = loss_jacobian_hessian_function(weights,X,event,l_div_m,n_unique_times,time_return_inverse)\n",
    "        if (loss < last_loss) &  (not half_step):\n",
    "            last_loss = loss\n",
    "            weights = weights -  np.dot(np.linalg.inv(hessian),jacobian)\n",
    "        elif (loss < last_loss) & half_step:\n",
    "            last_loss = loss\n",
    "            weights = weights - (0.5 * np.dot(np.linalg.inv(hessian),jacobian))\n",
    "        else:\n",
    "            if half_step:\n",
    "                break\n",
    "            else:\n",
    "                half_step = True\n",
    "\n",
    "    return weights\n"
   ]
  },
  {
   "cell_type": "code",
   "execution_count": 23,
   "id": "7c20bdc2-c2d0-4baf-842a-275919b4d1f1",
   "metadata": {},
   "outputs": [
    {
     "data": {
      "text/plain": [
       "array([ 0.05067288, -0.03565723,  0.09737128,  0.45374737])"
      ]
     },
     "execution_count": 23,
     "metadata": {},
     "output_type": "execute_result"
    }
   ],
   "source": [
    "train_weights_for_cox_ph_efron(X,event,n_unique_times,time_return_inverse)"
   ]
  },
  {
   "cell_type": "code",
   "execution_count": 9,
   "id": "0210858b-346b-4f25-9392-df8c470d2010",
   "metadata": {},
   "outputs": [],
   "source": [
    "#lifelines only used the efron loss, it also scales X automaticly\n",
    "\n",
    "llcox = CoxPHFitter().fit(df,'time','death')"
   ]
  },
  {
   "cell_type": "code",
   "execution_count": 10,
   "id": "5415240c-8cd8-44e6-8e28-6a1bad897e6e",
   "metadata": {},
   "outputs": [
    {
     "data": {
      "text/plain": [
       "array([ 0.0506714 , -0.03561573,  0.09739612,  0.45378663])"
      ]
     },
     "execution_count": 10,
     "metadata": {},
     "output_type": "execute_result"
    }
   ],
   "source": [
    "llcox.summary['coef'].values\n"
   ]
  },
  {
   "cell_type": "code",
   "execution_count": 11,
   "id": "e0e97ee2-b0d5-4571-a8d7-760b5c1ebb0c",
   "metadata": {},
   "outputs": [
    {
     "data": {
      "text/plain": [
       "array([ 0.05067238, -0.03560988,  0.09739891,  0.45379433])"
      ]
     },
     "execution_count": 11,
     "metadata": {},
     "output_type": "execute_result"
    }
   ],
   "source": [
    "y_sur = Surv().from_arrays(event,time)\n",
    "CoxPHSurvivalAnalysis(ties='efron').fit(X ,y_sur).coef_"
   ]
  },
  {
   "cell_type": "code",
   "execution_count": null,
   "id": "952c895d-544f-48a1-b52d-4526496838e7",
   "metadata": {},
   "outputs": [],
   "source": [
    "#the coefs are all very close"
   ]
  },
  {
   "cell_type": "code",
   "execution_count": 12,
   "id": "05c54e6e-0789-49d7-8341-7924ef20c897",
   "metadata": {},
   "outputs": [
    {
     "name": "stdout",
     "output_type": "stream",
     "text": [
      "7.22 ms ± 1.23 ms per loop (mean ± std. dev. of 7 runs, 100 loops each)\n"
     ]
    }
   ],
   "source": [
    "%timeit train_weights_for_cox_ph_efron(X,event,n_unique_times,time_return_inverse)"
   ]
  },
  {
   "cell_type": "code",
   "execution_count": 13,
   "id": "70fd5300-7c2e-4eb6-abcd-e71346523406",
   "metadata": {},
   "outputs": [
    {
     "name": "stdout",
     "output_type": "stream",
     "text": [
      "69.6 ms ± 2.84 ms per loop (mean ± std. dev. of 7 runs, 10 loops each)\n"
     ]
    }
   ],
   "source": [
    "%timeit CoxPHSurvivalAnalysis(ties='efron').fit(X ,y_sur)"
   ]
  },
  {
   "cell_type": "code",
   "execution_count": 14,
   "id": "8d6096be-db4c-4137-b3b5-e4f5b7e6b362",
   "metadata": {},
   "outputs": [
    {
     "name": "stdout",
     "output_type": "stream",
     "text": [
      "59.7 ms ± 1.27 ms per loop (mean ± std. dev. of 7 runs, 10 loops each)\n"
     ]
    }
   ],
   "source": [
    "%timeit CoxPHFitter().fit(df,'time','death')"
   ]
  },
  {
   "cell_type": "code",
   "execution_count": 15,
   "id": "6e8a493e-6adf-4536-894c-4d1f2b8f8758",
   "metadata": {},
   "outputs": [],
   "source": [
    "#we are now around 10X faster than lifelines and sksurv, we can get even faster by jiting get_index_per_not_censored_times\n"
   ]
  },
  {
   "cell_type": "code",
   "execution_count": 17,
   "id": "3be0ca4b-d309-4864-92fb-94146b071f7a",
   "metadata": {},
   "outputs": [],
   "source": [
    "\n",
    "from numba import njit\n",
    "import  numba as nb\n",
    "\n",
    "signature = nb.types.Array(nb.types.int64,1,'C')(nb.types.Array(nb.types.float64,1,'C'),nb.types.Array(nb.types.int64,1,'C'))\n",
    "\n",
    "\n",
    "@njit(signature)\n",
    "def get_index_per_not_censored_times(time,event):\n",
    "    last_time = np.inf\n",
    "    current_index = 0\n",
    "    indexes = []\n",
    "\n",
    "    \n",
    "    for i in range(time.shape[0]):\n",
    "        t = time[i]\n",
    "        e = event[i]\n",
    "        \n",
    "        not_censored =  e == 1\n",
    "        \n",
    "        if t == last_time and not_censored:\n",
    "            current_index = current_index + 1\n",
    "    \n",
    "        elif not_censored:\n",
    "            current_index = 0\n",
    "        else:\n",
    "            current_index = -1\n",
    "    \n",
    "        last_time = t\n",
    "    \n",
    "        indexes.append(current_index)\n",
    "        \n",
    "    return np.array(indexes)"
   ]
  },
  {
   "cell_type": "code",
   "execution_count": 18,
   "id": "2392d1d0-12fd-4f7a-9814-e58931d14646",
   "metadata": {},
   "outputs": [
    {
     "name": "stdout",
     "output_type": "stream",
     "text": [
      "5.81 ms ± 472 μs per loop (mean ± std. dev. of 7 runs, 100 loops each)\n"
     ]
    }
   ],
   "source": [
    "%timeit train_weights_for_cox_ph_efron(X,event,n_unique_times,time_return_inverse)"
   ]
  },
  {
   "cell_type": "code",
   "execution_count": 19,
   "id": "1951bb83-02f0-4e78-b81e-68dc9375c44c",
   "metadata": {},
   "outputs": [],
   "source": [
    "#we are now around 30X faster than lifelines and sksurv, =)"
   ]
  },
  {
   "cell_type": "code",
   "execution_count": null,
   "id": "d7555c19-049a-4706-9c72-8df08a2f7935",
   "metadata": {},
   "outputs": [],
   "source": []
  }
 ],
 "metadata": {
  "kernelspec": {
   "display_name": "Python 3 (ipykernel)",
   "language": "python",
   "name": "python3"
  },
  "language_info": {
   "codemirror_mode": {
    "name": "ipython",
    "version": 3
   },
   "file_extension": ".py",
   "mimetype": "text/x-python",
   "name": "python",
   "nbconvert_exporter": "python",
   "pygments_lexer": "ipython3",
   "version": "3.12.8"
  }
 },
 "nbformat": 4,
 "nbformat_minor": 5
}
