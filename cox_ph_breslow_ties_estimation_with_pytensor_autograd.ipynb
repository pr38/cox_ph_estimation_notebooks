{
 "cells": [
  {
   "cell_type": "code",
   "execution_count": 1,
   "id": "7119246d-1658-44f4-802e-aae457dd2bb7",
   "metadata": {},
   "outputs": [],
   "source": [
    "import numpy as np\n",
    "\n",
    "from pytensor import tensor as pt\n",
    "import pytensor\n",
    "\n",
    "from lifelines.datasets import load_kidney_transplant\n",
    "\n",
    "from sksurv.linear_model import CoxPHSurvivalAnalysis\n",
    "from sksurv.util import Surv"
   ]
  },
  {
   "cell_type": "code",
   "execution_count": 2,
   "id": "ff6939f5-6e99-4a1e-8475-5367cf82221b",
   "metadata": {},
   "outputs": [],
   "source": [
    "\n",
    "def get_breslow_neg_log_likelihood_loss_jacobian_hessian_function_pytensor() -> pytensor.compile.function.types.Function:\n",
    "    def reverse_cumsum(a):\n",
    "        return pt.flip(pt.cumsum(pt.flip(a)))\n",
    "    \n",
    "    weights  = pt.vector('weights',dtype='float64')\n",
    "    data = pt.matrix('data',dtype='float64')\n",
    "    event = pt.vector('event',dtype='float64')\n",
    "    n_unique_times = pt.scalar('n_unique_times',dtype='int64') \n",
    "    time_return_inverse = pt.vector('time_return_inverse',dtype='int64')\n",
    "\n",
    "    o = pt.dot(data, weights)\n",
    "    risk_set = reverse_cumsum(pt.bincount(time_return_inverse,weights= pt.exp(o),minlength=n_unique_times))[time_return_inverse]\n",
    "    loss = - pt.sum(event * (o - pt.log(risk_set)))\n",
    "\n",
    "    jacobian = pytensor.gradient.jacobian(loss,weights)\n",
    "    hessian = pytensor.gradient.hessian(loss,weights)\n",
    "    neg_log_likelihood_loss_jacobian_hessian = pytensor.function(inputs=[weights,data,event,n_unique_times,time_return_inverse],outputs= [loss,jacobian,hessian])\n",
    "\n",
    "    return neg_log_likelihood_loss_jacobian_hessian\n"
   ]
  },
  {
   "cell_type": "code",
   "execution_count": 3,
   "id": "73c9f80a-7a2d-4764-b4b4-6bb332dfded6",
   "metadata": {},
   "outputs": [],
   "source": [
    "neg_log_likelihood_loss_jacobian_hessian = get_breslow_neg_log_likelihood_loss_jacobian_hessian_function_pytensor()"
   ]
  },
  {
   "cell_type": "code",
   "execution_count": 4,
   "id": "8d592c00-e000-494e-8c6b-dade026a4423",
   "metadata": {},
   "outputs": [],
   "source": [
    "data = load_kidney_transplant()\n"
   ]
  },
  {
   "cell_type": "code",
   "execution_count": 5,
   "id": "680fa488-ae67-43d9-af84-629bd9b2f06f",
   "metadata": {},
   "outputs": [],
   "source": [
    "X = data[['age','black_male','white_male','black_female']].to_numpy()\n",
    "\n",
    "def normalize(X):\n",
    "    return np.subtract(X , X.mean(axis=0))/X.std(axis=0)\n",
    "\n",
    "X = normalize(X)\n",
    "time = data['time'].to_numpy()\n",
    "event = data['death'].to_numpy()\n",
    "unique_times, time_return_inverse =  np.unique(time,return_inverse=True)\n",
    "n_unique_times = len(unique_times)"
   ]
  },
  {
   "cell_type": "code",
   "execution_count": 6,
   "id": "6aa3fca4-2d93-4070-8cff-2ba0e2177d33",
   "metadata": {},
   "outputs": [],
   "source": [
    "def train_weights_for_cox_ph_breslow(X,event,n_unique_times,time_return_inverse, max_itterations = 100, neg_log_likelihood_loss_jacobian_hessian=neg_log_likelihood_loss_jacobian_hessian):\n",
    "    #https://myweb.uiowa.edu/pbreheny/7210/f15/notes/10-27.pdf \n",
    "    #according to Dr. Breheny's notes, one should start halfsteping Newton-Raphson for cox when one starts having touble traning, before terminating the training loop\n",
    "    #\"Supposedly\" R's survival package does this\n",
    "\n",
    "    \n",
    "    weights = np.zeros(X.shape[1])\n",
    "\n",
    "    last_loss = np.array(np.inf)\n",
    "    \n",
    "    half_step = False\n",
    "    \n",
    "    for i in range(max_itterations):\n",
    "        loss, jacobian, hessian = neg_log_likelihood_loss_jacobian_hessian(weights,X,event,n_unique_times,time_return_inverse)\n",
    "        if (loss < last_loss) &  (not half_step):\n",
    "            last_loss = loss\n",
    "            weights = weights -  np.dot(np.linalg.inv(hessian),jacobian)\n",
    "        elif (loss < last_loss) & half_step:\n",
    "            last_loss = loss\n",
    "            weights = weights - (0.5 * np.dot(np.linalg.inv(hessian),jacobian))\n",
    "        else:\n",
    "            if half_step:\n",
    "                break\n",
    "            else:\n",
    "                half_step = True\n",
    "\n",
    "    return weights\n",
    "\n"
   ]
  },
  {
   "cell_type": "code",
   "execution_count": 7,
   "id": "a57074b3-085a-45a8-82c9-97b13c3183bd",
   "metadata": {},
   "outputs": [
    {
     "data": {
      "text/plain": [
       "array([ 0.68441213, -0.01099881,  0.04867061,  0.1145396 ])"
      ]
     },
     "execution_count": 7,
     "metadata": {},
     "output_type": "execute_result"
    }
   ],
   "source": [
    " train_weights_for_cox_ph_breslow(X,event,n_unique_times,time_return_inverse)"
   ]
  },
  {
   "cell_type": "code",
   "execution_count": 8,
   "id": "5d5a5c07-83c9-4912-b46b-f33088bf01d5",
   "metadata": {},
   "outputs": [
    {
     "data": {
      "text/plain": [
       "array([ 0.68441213, -0.01099881,  0.04867061,  0.1145396 ])"
      ]
     },
     "execution_count": 8,
     "metadata": {},
     "output_type": "execute_result"
    }
   ],
   "source": [
    "y_sur = Surv().from_arrays(event,time)\n",
    "CoxPHSurvivalAnalysis(ties='breslow').fit(X ,y_sur).coef_"
   ]
  },
  {
   "cell_type": "code",
   "execution_count": 9,
   "id": "434abd21-8c6f-4107-a842-016c2366e705",
   "metadata": {},
   "outputs": [],
   "source": [
    "#weights are completely identical"
   ]
  },
  {
   "cell_type": "code",
   "execution_count": 10,
   "id": "3c0fb6af-2ae7-4737-bd71-9523ad4e31f9",
   "metadata": {},
   "outputs": [
    {
     "name": "stdout",
     "output_type": "stream",
     "text": [
      "4.23 ms ± 414 μs per loop (mean ± std. dev. of 7 runs, 100 loops each)\n"
     ]
    }
   ],
   "source": [
    "%timeit  train_weights_for_cox_ph_breslow(X,event,n_unique_times,time_return_inverse)"
   ]
  },
  {
   "cell_type": "code",
   "execution_count": 11,
   "id": "ba8dcf4a-c1b2-4faa-b3d8-c18c96a50f4e",
   "metadata": {},
   "outputs": [
    {
     "name": "stdout",
     "output_type": "stream",
     "text": [
      "67.7 ms ± 2.32 ms per loop (mean ± std. dev. of 7 runs, 10 loops each)\n"
     ]
    }
   ],
   "source": [
    "%timeit CoxPHSurvivalAnalysis(ties='breslow').fit(X ,y_sur)"
   ]
  },
  {
   "cell_type": "code",
   "execution_count": 12,
   "id": "0322d541-3b62-41d4-bc74-95bff2cf4b0f",
   "metadata": {},
   "outputs": [],
   "source": [
    "#we are 30X- ish faster =), this due to the fact sksurv/lifelines/statsmodels all write huge parts of thier traning loop pure python"
   ]
  },
  {
   "cell_type": "code",
   "execution_count": null,
   "id": "ee1ebb42-783e-4edf-a545-ab00bf6c6410",
   "metadata": {},
   "outputs": [],
   "source": []
  },
  {
   "cell_type": "code",
   "execution_count": null,
   "id": "c5107b10-45bf-42a8-96e5-5c6e8bfb80a9",
   "metadata": {},
   "outputs": [],
   "source": []
  }
 ],
 "metadata": {
  "kernelspec": {
   "display_name": "Python 3 (ipykernel)",
   "language": "python",
   "name": "python3"
  },
  "language_info": {
   "codemirror_mode": {
    "name": "ipython",
    "version": 3
   },
   "file_extension": ".py",
   "mimetype": "text/x-python",
   "name": "python",
   "nbconvert_exporter": "python",
   "pygments_lexer": "ipython3",
   "version": "3.12.8"
  }
 },
 "nbformat": 4,
 "nbformat_minor": 5
}
